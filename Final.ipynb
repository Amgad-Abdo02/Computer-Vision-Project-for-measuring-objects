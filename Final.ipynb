{
 "cells": [
  {
   "cell_type": "code",
   "execution_count": 4,
   "metadata": {},
   "outputs": [],
   "source": [
    "import cv2\n",
    "import numpy as np\n",
    " \n",
    "def getContours(img,cThr=[100,100],minArea=1000,filter=0):\n",
    "    imgGray = cv2.cvtColor(img,cv2.COLOR_BGR2GRAY)\n",
    "    imgBlur = cv2.GaussianBlur(imgGray,(5,5),1)\n",
    "    imgCanny = cv2.Canny(imgBlur,cThr[0],cThr[1])# can use any edge detector but we use canny as it is most optimal one\n",
    "    kernel = np.ones((5,5)) #used in dilation and erosion\n",
    "    imgDial = cv2.dilate(imgCanny,kernel,iterations=3)\n",
    "    imgThre = cv2.erode(imgDial,kernel,iterations=2)# dilation and erosion are used to filter the bad edges\n",
    "    contours,hiearchy = cv2.findContours(imgThre,cv2.RETR_EXTERNAL,cv2.CHAIN_APPROX_SIMPLE)# to find countours in image / RETR_EXTERNAL is used for  outer Edges\n",
    "    \n",
    "    finalCountours = []\n",
    "\n",
    "    for i in contours:\n",
    "        area = cv2.contourArea(i) # get area of contours\n",
    "        if area > minArea: # filter out cotours if their area is less than minimum area needed\n",
    "            peri = cv2.arcLength(i,True) # calculates countour parameter \n",
    "            approx = cv2.approxPolyDP(i,0.02*peri,True) # Using parameter An approximation of the countour curve is calculated\n",
    "            bbox = cv2.boundingRect(approx) # Using approximation of the curve it calculates the rectangular shape that will be used \n",
    "\n",
    "            if filter > 0: # if we need to filter the object to be a certain shape\n",
    "                if len(approx) == filter:\n",
    "                    finalCountours.append([len(approx),area,approx,bbox,i])\n",
    "            else:\n",
    "                finalCountours.append([len(approx),area,approx,bbox,i])\n",
    "\n",
    "    finalCountours = sorted(finalCountours,key = lambda x:x[1] ,reverse= True) # Sorting Countours based on size to find the biggest contour \n",
    "     \n",
    "    return img, finalCountours\n",
    "\n",
    " \n"
   ]
  },
  {
   "cell_type": "code",
   "execution_count": 5,
   "metadata": {},
   "outputs": [],
   "source": [
    " \n",
    "def reorder(myPoints):\n",
    "    myPointsNew = np.zeros_like(myPoints) #return numpy array of the shape and size of Zero \n",
    "    myPoints = myPoints.reshape((4,2))# reshape points to remove redundancy in shape\n",
    "    add = myPoints.sum(1)\n",
    "    myPointsNew[0] = myPoints[np.argmin(add)]\n",
    "    myPointsNew[3] = myPoints[np.argmax(add)]\n",
    "    diff = np.diff(myPoints,axis=1)\n",
    "    myPointsNew[1]= myPoints[np.argmin(diff)]\n",
    "    myPointsNew[2] = myPoints[np.argmax(diff)]\n",
    "    return myPointsNew"
   ]
  },
  {
   "cell_type": "code",
   "execution_count": 6,
   "metadata": {},
   "outputs": [],
   "source": [
    "def warpImg (img,points,w,h,pad=7):\n",
    "    points =reorder(points)\n",
    "    pts1 = np.float32(points) \n",
    "    pts2 = np.float32([[0,0],[w,0],[0,h],[w,h]])  # points of the new wanted images\n",
    "    matrix = cv2.getPerspectiveTransform(pts1,pts2) # calculates the perspective transform \n",
    "    imgWarp = cv2.warpPerspective(img,matrix,(w,h)) # warps image into the size of A4 paper \n",
    "    imgWarp = imgWarp[pad:imgWarp.shape[0]-pad,pad:imgWarp.shape[1]-pad] # adds padding to correct image\n",
    "    return imgWarp\n",
    " \n",
    "def findDis(pts1,pts2):\n",
    "    return ((pts2[0]-pts1[0])**2 + (pts2[1]-pts1[1])**2)**0.5"
   ]
  },
  {
   "cell_type": "code",
   "execution_count": 7,
   "metadata": {},
   "outputs": [],
   "source": [
    "webcam = False\n",
    "\n",
    "if webcam == True:\n",
    "    cap =cv2.VideoCapture(0)\n",
    "else:\n",
    "    cap = cv2.VideoCapture(\"A4_2_vid.MOV\")\n",
    "\n",
    "cap.set(10,160)# set brightness:10 = 160\n",
    "cap.set(3,1920)#set width:3 = 1920\n",
    "cap.set(4,1080)# set height:4 = 1080\n",
    "scale = 2\n",
    "wP = 210 *scale\n",
    "hP= 297 *scale"
   ]
  },
  {
   "cell_type": "code",
   "execution_count": 8,
   "metadata": {},
   "outputs": [],
   "source": [
    "while(cap.isOpened()):\n",
    "  ret,img = cap.read()\n",
    "  if ret ==True:  \n",
    "    imgContours , conts = getContours(img,minArea=50000,filter=4)\n",
    "\n",
    "    if len(conts) != 0: # to check if list isn't empty\n",
    "        biggest = conts[0][2]\n",
    "        imgWarp = warpImg(img, biggest, wP,hP)\n",
    "        imgContours2, conts2 = getContours(imgWarp,\n",
    "                                                 minArea=2000, filter=4,\n",
    "                                                 cThr=[50,50])\n",
    "        if len(conts) != 0:\n",
    "            for obj in conts2:\n",
    "                cv2.polylines(imgContours2,[obj[2]],True,(0,255,0),2) #Draws polylines around object\n",
    "                nPoints = reorder(obj[2])\n",
    "                nW = round((findDis(nPoints[0][0]//scale,nPoints[1][0]//scale)/10),1) #Gets displacment between two points\n",
    "                nH = round((findDis(nPoints[0][0]//scale,nPoints[2][0]//scale)/10),1) #Gets Displacment between two points\n",
    "\n",
    "                cv2.arrowedLine(imgContours2, (nPoints[0][0][0], nPoints[0][0][1]), (nPoints[1][0][0], nPoints[1][0][1]),\n",
    "                                (255, 0, 255), 3, 8, 0, 0.05) \n",
    "                cv2.arrowedLine(imgContours2, (nPoints[0][0][0], nPoints[0][0][1]), (nPoints[2][0][0], nPoints[2][0][1]),\n",
    "                                (255, 0, 255), 3, 8, 0, 0.05)  #Draws Arrowed lines along objects\n",
    "\n",
    "                x, y, w, h = obj[3]\n",
    "                cv2.putText(imgContours2, '{}cm'.format(nW), (x + 10, y - 10), cv2.FONT_HERSHEY_COMPLEX_SMALL, 1.5,\n",
    "                            (255, 0, 0), 2)\n",
    "                cv2.putText(imgContours2, '{}cm'.format(nH), (x - 10, y + h // 2), cv2.FONT_HERSHEY_COMPLEX_SMALL, 1.5,\n",
    "                            (255, 0, 0), 2)\n",
    "                            #puts measurements on object\n",
    "        cv2.imshow('A4', imgContours2)\n",
    " \n",
    "    img = cv2.resize(img,(0,0),None,0.5,0.5)\n",
    "    cv2.imshow('Original',img)\n",
    "    \n",
    "    if cv2.waitKey(25) & 0xFF == ord('q'):\n",
    "            break\n",
    "  else:\n",
    "    break\n",
    "cap.release()\n",
    "\n",
    "cv2.destroyAllWindows()"
   ]
  }
 ],
 "metadata": {
  "kernelspec": {
   "display_name": "base",
   "language": "python",
   "name": "python3"
  },
  "language_info": {
   "codemirror_mode": {
    "name": "ipython",
    "version": 3
   },
   "file_extension": ".py",
   "mimetype": "text/x-python",
   "name": "python",
   "nbconvert_exporter": "python",
   "pygments_lexer": "ipython3",
   "version": "3.9.7"
  },
  "orig_nbformat": 4,
  "vscode": {
   "interpreter": {
    "hash": "50edcb2b0ad7226cadcbfdf97a4928fecb067092c9dc15a3c15d8e27ceed93ad"
   }
  }
 },
 "nbformat": 4,
 "nbformat_minor": 2
}
